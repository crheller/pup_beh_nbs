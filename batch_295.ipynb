{
 "cells": [
  {
   "cell_type": "markdown",
   "metadata": {},
   "source": [
    "## Analysis of batch 295\n",
    "* Compare task-modulation / gain in ON vs. OFF BF units.\n",
    "* 295 data is IC data recorded by Sean Slee. In his 2015 [J. neurosci ms](https://www.jneurosci.org/content/jneuro/35/38/13090.full.pdf), he showed evidence for a mixture of local and global gain supprsession during pure-tone detection behavior.\n",
    "* Goal here is to see if NEMS stategain models, fit on the same data, reproduce the effects he was seeing\n",
    "\n",
    "### Procedure\n",
    "* In scripts saved in `nems_db/nems_lbhb/pupil_behavior_scripts/` I did the following:\n",
    "    * used Greg's STRF code to cache a BF for each recorded unit in batch 295. I used all the data for this (i.e. I used all the data that went into the NEMS model)\n",
    "    * performed a db query for each cell to look up the target freq for each recording file. I cached these as well.\n",
    "    * I ran the following chunk of code in `pupil_behavior_dump_csv.py` to cache NEMS model results\n",
    "```\n",
    "# batch 295 behavior only\n",
    "state_list = ['st.fil','st.fil0']\n",
    "basemodel2 = \"-ref-psthfr.s_stategain.S\"\n",
    "loader = \"psth.fs20-ld-\"\n",
    "batches = [295]\n",
    "for batch in batches:\n",
    "    d = get_model_results_per_state_model(batch=batch, state_list=state_list,\n",
    "                                          basemodel=basemodel2, loader=loader)\n",
    "    d.to_csv('d_'+str(batch)+'_fil_stategain.csv')        \n",
    "```\n",
    "\n",
    "* Since all these results are cached in `nems_db`, this notebook should run just fine in any local python environment where you've pulled down the latest `nems_db\n",
    "\n",
    "### Define path and import modules"
   ]
  },
  {
   "cell_type": "code",
   "execution_count": 1,
   "metadata": {},
   "outputs": [],
   "source": [
    "import pandas as pd\n",
    "import numpy as np\n",
    "import matplotlib.pyplot as plt\n",
    "import scipy.stats as ss"
   ]
  },
  {
   "cell_type": "code",
   "execution_count": 2,
   "metadata": {},
   "outputs": [],
   "source": [
    "# define local nems_db path (I'm working on muskrat right now)\n",
    "db_path = '/auto/users/hellerc/code/nems_db/'"
   ]
  },
  {
   "cell_type": "markdown",
   "metadata": {},
   "source": [
    "### Define global analysis params"
   ]
  },
  {
   "cell_type": "code",
   "execution_count": 3,
   "metadata": {},
   "outputs": [],
   "source": [
    "batch = 295\n",
    "cutoff = 0.5   # octaves from target freq to be considered ON BF"
   ]
  },
  {
   "cell_type": "markdown",
   "metadata": {},
   "source": [
    "### Load cached results and merge into single df"
   ]
  },
  {
   "cell_type": "code",
   "execution_count": 4,
   "metadata": {},
   "outputs": [],
   "source": [
    "# load model results data\n",
    "dMI = pd.read_csv(db_path+'nems_lbhb/pupil_behavior_scripts/d_{}_fil_stategain.csv'.format(batch), index_col=0)\n",
    "dMI['r'] = [np.float(r.strip('[]')) for r in dMI['r'].values]\n",
    "dMI['r_se'] = [np.float(r.strip('[]')) for r in dMI['r_se'].values]\n",
    "\n",
    "# merge shuffled results and non-shuffled results in order to compute unique MI\n",
    "file_merge = dMI[dMI['state_sig']=='st.fil'][['cellid', 'state_chan_alt', 'MI', 'g', 'd', 'r', 'r_se']].merge(\\\n",
    "                dMI[dMI['state_sig']=='st.fil0'][['cellid', 'state_chan_alt', 'MI', 'g', 'd', 'r', 'r_se']], \\\n",
    "                on=['cellid', 'state_chan_alt'])\n",
    "\n",
    "file_merge['gain'] = file_merge['g_x']\n",
    "file_merge['MI'] = file_merge['MI_x'] - file_merge['MI_y']\n",
    "file_merge['dc'] = file_merge['d_x']\n",
    "\n",
    "# define list of significant cells (cells where state improved model preds)\n",
    "sig_cells = file_merge[(file_merge['r_x'] - file_merge['r_y']) > \\\n",
    "                       (2 * file_merge['r_se_x'])].cellid.unique()\n",
    "\n",
    "# strip extraneous columns from the merge\n",
    "strip_cols = [c for c in file_merge.columns if ('_x' in c) | ('_y' in c)]\n",
    "file_merge = file_merge.drop(columns=strip_cols)\n",
    "\n",
    "# load BF / SNR data\n",
    "dBF = pd.read_csv(db_path+'nems_lbhb/pupil_behavior_scripts/d_{}_tuning.csv'.format(batch), index_col=0)\n",
    "dBF.index.name = 'cellid'\n",
    "\n",
    "# load tar frequencies\n",
    "dTF = pd.read_csv(db_path+'nems_lbhb/pupil_behavior_scripts/d_{}_tar_freqs.csv'.format(batch), index_col=0)\n",
    "\n",
    "# merge results into single df for 307 and for 309\n",
    "df = file_merge.merge(dTF, on=['cellid', 'state_chan_alt'])\n",
    "df.index = df.cellid\n",
    "df = df.drop(columns=['cellid'])\n",
    "\n",
    "df = df.merge(dBF, left_index=True, right_index=True)\n",
    "\n",
    "# add column classifying octave sep. from target\n",
    "df['oct_diff'] = abs(np.log2(df['tar_freq'] / df['BF']))\n",
    "\n",
    "# add column for significance\n",
    "df['sig'] = [True if c in sig_cells else False for c in df.index]\n",
    "\n",
    "# add column for on cells / off cells\n",
    "df['ON_BF'] = [True if df.iloc[i]['oct_diff']<=cutoff else False for i in range(df.shape[0])]\n",
    "df['OFF_BF'] = [True if df.iloc[i]['oct_diff']>cutoff else False for i in range(df.shape[0])]"
   ]
  },
  {
   "cell_type": "code",
   "execution_count": 5,
   "metadata": {},
   "outputs": [
    {
     "data": {
      "text/html": [
       "<div>\n",
       "<style scoped>\n",
       "    .dataframe tbody tr th:only-of-type {\n",
       "        vertical-align: middle;\n",
       "    }\n",
       "\n",
       "    .dataframe tbody tr th {\n",
       "        vertical-align: top;\n",
       "    }\n",
       "\n",
       "    .dataframe thead th {\n",
       "        text-align: right;\n",
       "    }\n",
       "</style>\n",
       "<table border=\"1\" class=\"dataframe\">\n",
       "  <thead>\n",
       "    <tr style=\"text-align: right;\">\n",
       "      <th></th>\n",
       "      <th>state_chan_alt</th>\n",
       "      <th>gain</th>\n",
       "      <th>MI</th>\n",
       "      <th>dc</th>\n",
       "      <th>tar_freq</th>\n",
       "      <th>BF</th>\n",
       "      <th>SNR</th>\n",
       "      <th>oct_diff</th>\n",
       "      <th>sig</th>\n",
       "      <th>ON_BF</th>\n",
       "      <th>OFF_BF</th>\n",
       "    </tr>\n",
       "    <tr>\n",
       "      <th>cellid</th>\n",
       "      <th></th>\n",
       "      <th></th>\n",
       "      <th></th>\n",
       "      <th></th>\n",
       "      <th></th>\n",
       "      <th></th>\n",
       "      <th></th>\n",
       "      <th></th>\n",
       "      <th></th>\n",
       "      <th></th>\n",
       "      <th></th>\n",
       "    </tr>\n",
       "  </thead>\n",
       "  <tbody>\n",
       "    <tr>\n",
       "      <th>btn003b-b1</th>\n",
       "      <td>ACTIVE_1</td>\n",
       "      <td>-1.435201</td>\n",
       "      <td>-0.315503</td>\n",
       "      <td>-0.770677</td>\n",
       "      <td>1000.0</td>\n",
       "      <td>555.0</td>\n",
       "      <td>1.298270</td>\n",
       "      <td>0.849440</td>\n",
       "      <td>True</td>\n",
       "      <td>False</td>\n",
       "      <td>True</td>\n",
       "    </tr>\n",
       "    <tr>\n",
       "      <th>btn003c-b1</th>\n",
       "      <td>ACTIVE_1</td>\n",
       "      <td>0.191252</td>\n",
       "      <td>0.093433</td>\n",
       "      <td>0.142109</td>\n",
       "      <td>700.0</td>\n",
       "      <td>685.0</td>\n",
       "      <td>0.764438</td>\n",
       "      <td>0.031251</td>\n",
       "      <td>True</td>\n",
       "      <td>True</td>\n",
       "      <td>False</td>\n",
       "    </tr>\n",
       "    <tr>\n",
       "      <th>btn003c-b1</th>\n",
       "      <td>ACTIVE_2</td>\n",
       "      <td>0.553658</td>\n",
       "      <td>0.193866</td>\n",
       "      <td>0.354616</td>\n",
       "      <td>4000.0</td>\n",
       "      <td>685.0</td>\n",
       "      <td>0.764438</td>\n",
       "      <td>2.545824</td>\n",
       "      <td>True</td>\n",
       "      <td>False</td>\n",
       "      <td>True</td>\n",
       "    </tr>\n",
       "    <tr>\n",
       "      <th>btn006a-b1</th>\n",
       "      <td>ACTIVE_1</td>\n",
       "      <td>-0.934566</td>\n",
       "      <td>-0.446942</td>\n",
       "      <td>-0.359851</td>\n",
       "      <td>10000.0</td>\n",
       "      <td>9801.0</td>\n",
       "      <td>4.075776</td>\n",
       "      <td>0.028999</td>\n",
       "      <td>True</td>\n",
       "      <td>True</td>\n",
       "      <td>False</td>\n",
       "    </tr>\n",
       "    <tr>\n",
       "      <th>btn008b-a1</th>\n",
       "      <td>ACTIVE_1</td>\n",
       "      <td>-0.204644</td>\n",
       "      <td>-0.033599</td>\n",
       "      <td>-0.059641</td>\n",
       "      <td>1200.0</td>\n",
       "      <td>397.0</td>\n",
       "      <td>4.660756</td>\n",
       "      <td>1.595823</td>\n",
       "      <td>True</td>\n",
       "      <td>False</td>\n",
       "      <td>True</td>\n",
       "    </tr>\n",
       "  </tbody>\n",
       "</table>\n",
       "</div>"
      ],
      "text/plain": [
       "           state_chan_alt      gain        MI        dc  tar_freq      BF  \\\n",
       "cellid                                                                      \n",
       "btn003b-b1       ACTIVE_1 -1.435201 -0.315503 -0.770677    1000.0   555.0   \n",
       "btn003c-b1       ACTIVE_1  0.191252  0.093433  0.142109     700.0   685.0   \n",
       "btn003c-b1       ACTIVE_2  0.553658  0.193866  0.354616    4000.0   685.0   \n",
       "btn006a-b1       ACTIVE_1 -0.934566 -0.446942 -0.359851   10000.0  9801.0   \n",
       "btn008b-a1       ACTIVE_1 -0.204644 -0.033599 -0.059641    1200.0   397.0   \n",
       "\n",
       "                 SNR  oct_diff   sig  ON_BF  OFF_BF  \n",
       "cellid                                               \n",
       "btn003b-b1  1.298270  0.849440  True  False    True  \n",
       "btn003c-b1  0.764438  0.031251  True   True   False  \n",
       "btn003c-b1  0.764438  2.545824  True  False    True  \n",
       "btn006a-b1  4.075776  0.028999  True   True   False  \n",
       "btn008b-a1  4.660756  1.595823  True  False    True  "
      ]
     },
     "execution_count": 5,
     "metadata": {},
     "output_type": "execute_result"
    }
   ],
   "source": [
    "df.head()"
   ]
  },
  {
   "cell_type": "markdown",
   "metadata": {},
   "source": [
    "### Plot histogram of MI / gain / DC for all cells"
   ]
  },
  {
   "cell_type": "code",
   "execution_count": 6,
   "metadata": {},
   "outputs": [
    {
     "name": "stderr",
     "output_type": "stream",
     "text": [
      "/auto/users/hellerc/anaconda3/envs/crh_nems/lib/python3.6/site-packages/numpy/core/fromnumeric.py:56: FutureWarning: reshape is deprecated and will raise in a subsequent release. Please use .values.reshape(...) instead\n",
      "  return getattr(obj, method)(*args, **kwds)\n"
     ]
    },
    {
     "data": {
      "text/plain": [
       "Text(0.5,1,'on: -0.071, off: -0.155, \\non_pval: 0.327, off_pval: 0.253')"
      ]
     },
     "execution_count": 6,
     "metadata": {},
     "output_type": "execute_result"
    },
    {
     "data": {
      "image/png": "[encoded data removed]",
      "text/plain": [
       "<Figure size 1080x360 with 3 Axes>"
      ]
     },
     "metadata": {
      "needs_background": "light"
     },
     "output_type": "display_data"
    }
   ],
   "source": [
    "f, ax = plt.subplots(1, 3, figsize=(15, 5))\n",
    "\n",
    "mi_bins = np.arange(-1, 1.1, 0.1)\n",
    "ax[0].hist(df.groupby(by=['cellid', 'ON_BF']).mean()['MI'], \n",
    "           bins=mi_bins, color='white', edgecolor='k', rwidth=0.6, label='all cells')\n",
    "ax[0].hist([df[df['sig'] & df['ON_BF']].groupby(by='cellid').mean()['MI'], \n",
    "            df[df['sig'] & df['OFF_BF']].groupby(by='cellid').mean()['MI']],\n",
    "           color=['blue', 'red'], bins=mi_bins, edgecolor='k', rwidth=0.6, \n",
    "           label=['ON cells', 'OFF cells'], histtype='barstacked')\n",
    "ax[0].set_xlabel('MI', fontsize=10)\n",
    "ax[0].set_ylabel('Number of neurons', fontsize=10)\n",
    "\n",
    "gain_bins = np.arange(-2, 2.2, 0.2)\n",
    "ax[1].hist(df.groupby(by=['cellid', 'ON_BF']).mean()['gain'], \n",
    "           bins=gain_bins, color='white', edgecolor='k', rwidth=0.6, label='all cells')\n",
    "ax[1].hist([df[df['sig'] & df['ON_BF']].groupby(by='cellid').mean()['gain'], \n",
    "            df[df['sig'] & df['OFF_BF']].groupby(by='cellid').mean()['gain']],\n",
    "           color=['blue', 'red'], bins=gain_bins, edgecolor='k', rwidth=0.6, \n",
    "           label=['ON cells', 'OFF cells'], histtype='barstacked')\n",
    "ax[1].set_xlabel('gain', fontsize=10)\n",
    "ax[1].set_ylabel('Number of neurons', fontsize=10)\n",
    "\n",
    "dc_bins = np.arange(-2, 2.2, 0.2)\n",
    "ax[2].hist(df.groupby(by=['cellid', 'ON_BF']).mean()['dc'], \n",
    "           bins=dc_bins, color='white', edgecolor='k', rwidth=0.6, label='all cells')\n",
    "ax[2].hist([df[df['sig'] & df['ON_BF']].groupby(by='cellid').mean()['dc'], \n",
    "            df[df['sig'] & df['OFF_BF']].groupby(by='cellid').mean()['dc']],\n",
    "           color=['blue', 'red'], bins=dc_bins, edgecolor='k', rwidth=0.6, \n",
    "           label=['ON cells', 'OFF cells'], histtype='barstacked')\n",
    "ax[2].set_xlabel('DC offset', fontsize=10)\n",
    "ax[2].set_ylabel('Number of neurons', fontsize=10)\n",
    "ax[2].legend(frameon=False, fontsize=10)\n",
    "\n",
    "\n",
    "# add stats\n",
    "\n",
    "# MI\n",
    "on_median = np.round(df[df['sig'] & df['ON_BF']].groupby(by='cellid').mean()['MI'].median(), 3)\n",
    "on_pval = np.round(ss.wilcoxon(df[df['sig'] & df['ON_BF']].groupby(by='cellid').mean()['MI']).pvalue, 3)\n",
    "off_median = np.round(df[df['sig'] & df['OFF_BF']].groupby(by='cellid').mean()['MI'].median(), 3)\n",
    "off_pval = np.round(ss.wilcoxon(df[df['sig'] & df['OFF_BF']].groupby(by='cellid').mean()['MI']).pvalue, 3)\n",
    "ax[0].set_title('on: {0}, off: {1}, \\n'\n",
    "                'on_pval: {2}, off_pval: {3}'.format(on_median, off_median, on_pval, off_pval))\n",
    "# gain\n",
    "on_median = np.round(df[df['sig'] & df['ON_BF']].groupby(by='cellid').mean()['gain'].median(), 3)\n",
    "on_pval = np.round(ss.wilcoxon(df[df['sig'] & df['ON_BF']].groupby(by='cellid').mean()['gain']).pvalue, 3)\n",
    "off_median = np.round(df[df['sig'] & df['OFF_BF']].groupby(by='cellid').mean()['gain'].median(), 3)\n",
    "off_pval = np.round(ss.wilcoxon(df[df['sig'] & df['OFF_BF']].groupby(by='cellid').mean()['gain']).pvalue, 3)\n",
    "ax[1].set_title('on: {0}, off: {1}, \\n'\n",
    "                'on_pval: {2}, off_pval: {3}'.format(on_median, off_median, on_pval, off_pval))\n",
    "\n",
    "# DC\n",
    "on_median = np.round(df[df['sig'] & df['ON_BF']].groupby(by='cellid').mean()['dc'].median(), 3)\n",
    "on_pval = np.round(ss.wilcoxon(df[df['sig'] & df['ON_BF']].groupby(by='cellid').mean()['dc']).pvalue, 3)\n",
    "off_median = np.round(df[df['sig'] & df['OFF_BF']].groupby(by='cellid').mean()['dc'].median(), 3)\n",
    "off_pval = np.round(ss.wilcoxon(df[df['sig'] & df['OFF_BF']].groupby(by='cellid').mean()['dc']).pvalue, 3)\n",
    "ax[2].set_title('on: {0}, off: {1}, \\n'\n",
    "                'on_pval: {2}, off_pval: {3}'.format(on_median, off_median, on_pval, off_pval))\n"
   ]
  },
  {
   "cell_type": "markdown",
   "metadata": {},
   "source": [
    "### Compare ON vs. OFF BF MI / gain / DC for cellids that were recorded in both conditions"
   ]
  },
  {
   "cell_type": "code",
   "execution_count": 7,
   "metadata": {},
   "outputs": [
    {
     "name": "stdout",
     "output_type": "stream",
     "text": [
      "19 cellids found for both condtions\n"
     ]
    }
   ],
   "source": [
    "on_cells = df[df['ON_BF']].index.unique()\n",
    "off_cells = df[df['OFF_BF']].index.unique()\n",
    "matched = np.unique([c for c in df.index.unique() if (c in on_cells.values) & (c in off_cells.values)])\n",
    "print('{0} cellids found for both condtions'.format(len(matched)))"
   ]
  },
  {
   "cell_type": "code",
   "execution_count": 8,
   "metadata": {},
   "outputs": [
    {
     "data": {
      "image/png": "[encoded data removed]",
      "text/plain": [
       "<Figure size 1080x360 with 3 Axes>"
      ]
     },
     "metadata": {
      "needs_background": "light"
     },
     "output_type": "display_data"
    }
   ],
   "source": [
    "f, ax = plt.subplots(1, 3, figsize=(15, 5))\n",
    "\n",
    "taskON = df[df.index.isin(matched) & (df.oct_diff <= cutoff)].groupby(by='cellid').mean()\n",
    "taskOFF = df[df.index.isin(matched) & (df.oct_diff > cutoff)].groupby(by='cellid').mean()\n",
    "\n",
    "ax[0].set_title('Unique Task MI, IC batch 295')\n",
    "ax[0].scatter(taskON['MI'], taskOFF['MI'], color='grey', edgecolor='white', s=50)\n",
    "ax[0].scatter(taskON[taskON.sig]['MI'], \n",
    "                taskOFF[taskOFF.sig]['MI'], color='k', edgecolor='white', s=50)\n",
    "ax[0].plot([-1, 1], [-1, 1], 'grey', linestyle='--')\n",
    "ax[0].axhline(0, linestyle='--', color='grey')\n",
    "ax[0].axvline(0, linestyle='--', color='grey')\n",
    "ax[0].set_xlim((-1, 1))\n",
    "ax[0].set_ylim((-1, 1))\n",
    "ax[0].set_xlabel('ON BF')\n",
    "ax[0].set_ylabel('OFF BF')\n",
    "\n",
    "axlim = 1.5\n",
    "ax[1].set_title('Gain, IC batch 295')\n",
    "ax[1].scatter(taskON['gain'], taskOFF['gain'], color='grey', edgecolor='white', s=50)\n",
    "ax[1].scatter(taskON[taskON.sig]['gain'], \n",
    "                taskOFF[taskOFF.sig]['gain'], color='k', edgecolor='white', s=50)\n",
    "ax[1].plot([-axlim, axlim], [-axlim, axlim], 'grey', linestyle='--')\n",
    "ax[1].axhline(0, linestyle='--', color='grey')\n",
    "ax[1].axvline(0, linestyle='--', color='grey')\n",
    "ax[1].set_xlim((-axlim, axlim))\n",
    "ax[1].set_ylim((-axlim, axlim))\n",
    "ax[1].set_xlabel('ON BF')\n",
    "ax[1].set_ylabel('OFF BF')\n",
    "\n",
    "ax[2].set_title('DC offset, IC batch 295')\n",
    "ax[2].scatter(taskON['dc'], taskOFF['dc'], color='grey', edgecolor='white', s=50, label='n.s. cells')\n",
    "ax[2].scatter(taskON[taskON.sig]['dc'], \n",
    "                taskOFF[taskOFF.sig]['dc'], color='k', edgecolor='white', s=50, label='sig cells')\n",
    "ax[2].plot([-axlim, axlim], [-axlim, axlim], 'grey', linestyle='--')\n",
    "ax[2].axhline(0, linestyle='--', color='grey')\n",
    "ax[2].axvline(0, linestyle='--', color='grey')\n",
    "ax[2].legend()\n",
    "ax[2].set_xlim((-axlim, axlim))\n",
    "ax[2].set_ylim((-axlim, axlim))\n",
    "ax[2].set_xlabel('ON BF')\n",
    "ax[2].set_ylabel('OFF BF')\n",
    "\n",
    "f.tight_layout()"
   ]
  }
 ],
 "metadata": {
  "kernelspec": {
   "display_name": "Python (crh_nems)",
   "language": "python",
   "name": "crh_nems"
  },
  "language_info": {
   "codemirror_mode": {
    "name": "ipython",
    "version": 3
   },
   "file_extension": ".py",
   "mimetype": "text/x-python",
   "name": "python",
   "nbconvert_exporter": "python",
   "pygments_lexer": "ipython3",
   "version": "3.6.8"
  }
 },
 "nbformat": 4,
 "nbformat_minor": 4
}
