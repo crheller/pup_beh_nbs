{
 "cells": [
  {
   "cell_type": "markdown",
   "metadata": {},
   "source": [
    "## Analysis of batch 307\n",
    "* Compare task-modulation / gain in ON vs. OFF BF units.\n",
    "* Compare these results with pupil-modulation (where there will presumably be no tuning dependence)\n",
    "* 307 data include A1 units recorded with pupil\n",
    "\n",
    "### Procedure\n",
    "* In scripts saved in `nems_db/nems_lbhb/pupil_behavior_scripts/` I did the following:\n",
    "    * used Greg's STRF code to cache a BF for each recorded unit. I used all the data for this (i.e. I used all the data that went into the NEMS model)\n",
    "    * performed a db query for each cell to look up the target freq for each recording file. I cached these as well.\n",
    "    * I ran the following chunk of code in `pupil_behavior_dump_csv.py` to cache NEMS model results\n",
    "```\n",
    "state_list = ['st.pup0.fil0','st.pup0.fil','st.pup.fil0','st.pup.fil']\n",
    "basemodel2 = \"-ref-psthfr.s_sdexp.S\"\n",
    "loader = \"psth.fs20.pup-ld-\"\n",
    "batches = [307, 309]\n",
    "for batch in batches:\n",
    "    d = get_model_results_per_state_model(batch=batch, state_list=state_list,\n",
    "                                          basemodel=basemodel2, loader=loader)\n",
    "    d.to_csv('d_'+str(batch)+'_pup_fil.csv')       \n",
    "```\n",
    "\n",
    "* Since all these results are cached in `nems_db`, this notebook should run just fine in any local python environment where you've pulled down the latest `nems_db\n",
    "\n",
    "### Define path and import modules"
   ]
  },
  {
   "cell_type": "code",
   "execution_count": 1,
   "metadata": {},
   "outputs": [],
   "source": [
    "import pandas as pd\n",
    "import numpy as np\n",
    "import matplotlib.pyplot as plt\n",
    "import scipy.stats as ss"
   ]
  },
  {
   "cell_type": "code",
   "execution_count": 2,
   "metadata": {},
   "outputs": [],
   "source": [
    "db_path = '/auto/users/hellerc/code/nems_db/'"
   ]
  },
  {
   "cell_type": "markdown",
   "metadata": {},
   "source": [
    "### Define global analysis params"
   ]
  },
  {
   "cell_type": "code",
   "execution_count": 3,
   "metadata": {},
   "outputs": [],
   "source": [
    "batch = 307\n",
    "cutoff = 0.5   # octaves from target freq to be considered ON BF\n",
    "sdexp = True   # if false, use stategain"
   ]
  },
  {
   "cell_type": "code",
   "execution_count": 4,
   "metadata": {},
   "outputs": [],
   "source": [
    "# load model results data\n",
    "if not sdexp:\n",
    "    dMI = pd.read_csv(db_path+'nems_lbhb/pupil_behavior_scripts/d_{}_pup_fil_stategain.csv'.format(batch), index_col=0)\n",
    "else:\n",
    "    dMI = pd.read_csv(db_path+'nems_lbhb/pupil_behavior_scripts/d_{}_pup_fil.csv'.format(batch), index_col=0)\n",
    "try:\n",
    "    dMI['r'] = [np.float(r.strip('[]')) for r in dMI['r'].values]\n",
    "    dMI['r_se'] = [np.float(r.strip('[]')) for r in dMI['r_se'].values]\n",
    "except:\n",
    "    pass\n",
    "\n",
    "# get task model params / MI\n",
    "file_merge = dMI[(dMI['state_sig']=='st.pup.fil') & (dMI['state_chan_alt'].str.contains('ACTIVE'))][['cellid', 'state_chan_alt', 'MI', 'g', 'd', 'r', 'r_se']].merge(\\\n",
    "                dMI[(dMI['state_sig']=='st.pup.fil0') & (dMI['state_chan_alt'].str.contains('ACTIVE'))][['cellid', 'state_chan_alt', 'MI', 'g', 'd', 'r', 'r_se']], \\\n",
    "                on=['cellid', 'state_chan_alt'])\n",
    "\n",
    "file_merge['gain_task'] = file_merge['g_x']\n",
    "file_merge['MI_task'] = file_merge['MI_x'] - file_merge['MI_y']\n",
    "file_merge['dc_task'] = file_merge['d_x']\n",
    "\n",
    "# get sig task cells\n",
    "file_merge['sig_task'] = [True if ((file_merge.iloc[i]['r_x'] - file_merge.iloc[i]['r_y']) > \n",
    "                                        (file_merge.iloc[i]['r_se_x'] + file_merge.iloc[i]['r_se_y'])) else False for i in range(file_merge.shape[0])]\n",
    "\n",
    "# strip extraneous columns\n",
    "file_merge = file_merge.drop(columns=[c for c in file_merge.columns if ('_x' in c) | ('_y' in c)])\n",
    "\n",
    "# get pupil model params / MI\n",
    "pupil_merge = dMI[(dMI['state_sig']=='st.pup.fil') & (dMI['state_chan_alt']=='pupil')][['cellid', 'state_chan_alt', 'MI', 'g', 'd', 'r', 'r_se']].merge(\\\n",
    "                dMI[(dMI['state_sig']=='st.pup0.fil') & (dMI['state_chan_alt']=='pupil')][['cellid', 'state_chan_alt', 'MI', 'g', 'd', 'r', 'r_se']], \\\n",
    "                on=['cellid', 'state_chan_alt'])\n",
    "\n",
    "pupil_merge['gain_pupil'] = pupil_merge['g_x']\n",
    "pupil_merge['MI_pupil'] = pupil_merge['MI_x'] - pupil_merge['MI_y']\n",
    "pupil_merge['dc_pupil'] = pupil_merge['d_x']\n",
    "\n",
    "# get sig pupil cells\n",
    "pupil_merge['sig_pupil'] = [True if ((pupil_merge.iloc[i]['r_x'] - pupil_merge.iloc[i]['r_y']) > \n",
    "                                        (pupil_merge.iloc[i]['r_se_x'] + pupil_merge.iloc[i]['r_se_y'])) else False for i in range(pupil_merge.shape[0])]\n",
    "\n",
    "# strip extraneous columns\n",
    "pupil_merge = pupil_merge.drop(columns=[c for c in pupil_merge.columns if ('_x' in c) | ('_y' in c)])\n",
    "pupil_merge = pupil_merge.drop(columns=['state_chan_alt'])\n",
    "\n",
    "# load BF / SNR data\n",
    "dBF = pd.read_csv(db_path+'nems_lbhb/pupil_behavior_scripts/d_{}_tuning.csv'.format(batch), index_col=0)\n",
    "dBF.index.name = 'cellid'\n",
    "\n",
    "# load tar frequencies\n",
    "dTF = pd.read_csv(db_path+'nems_lbhb/pupil_behavior_scripts/d_{}_tar_freqs.csv'.format(batch), index_col=0)\n",
    "\n",
    "# merge results into single df for 307 and for 309\n",
    "df = file_merge.merge(dTF, on=['cellid', 'state_chan_alt'])\n",
    "df = df.merge(pupil_merge, on=['cellid'])\n",
    "df.index = df.cellid\n",
    "df = df.drop(columns=['cellid'])\n",
    "\n",
    "df = df.merge(dBF, left_index=True, right_index=True)\n",
    "\n",
    "# add column classifying octave sep. from target\n",
    "df['oct_diff'] = abs(np.log2(df['tar_freq'] / df['BF']))\n",
    "\n",
    "# add column for on cells / off cells\n",
    "df['ON_BF'] = [True if df.iloc[i]['oct_diff']<=cutoff else False for i in range(df.shape[0])]\n",
    "df['OFF_BF'] = [True if df.iloc[i]['oct_diff']>cutoff else False for i in range(df.shape[0])]"
   ]
  },
  {
   "cell_type": "code",
   "execution_count": 5,
   "metadata": {},
   "outputs": [
    {
     "data": {
      "text/html": [
       "<div>\n",
       "<style scoped>\n",
       "    .dataframe tbody tr th:only-of-type {\n",
       "        vertical-align: middle;\n",
       "    }\n",
       "\n",
       "    .dataframe tbody tr th {\n",
       "        vertical-align: top;\n",
       "    }\n",
       "\n",
       "    .dataframe thead th {\n",
       "        text-align: right;\n",
       "    }\n",
       "</style>\n",
       "<table border=\"1\" class=\"dataframe\">\n",
       "  <thead>\n",
       "    <tr style=\"text-align: right;\">\n",
       "      <th></th>\n",
       "      <th>state_chan_alt</th>\n",
       "      <th>gain_task</th>\n",
       "      <th>MI_task</th>\n",
       "      <th>dc_task</th>\n",
       "      <th>sig_task</th>\n",
       "      <th>tar_freq</th>\n",
       "      <th>gain_pupil</th>\n",
       "      <th>MI_pupil</th>\n",
       "      <th>dc_pupil</th>\n",
       "      <th>sig_pupil</th>\n",
       "      <th>BF</th>\n",
       "      <th>SNR</th>\n",
       "      <th>oct_diff</th>\n",
       "      <th>ON_BF</th>\n",
       "      <th>OFF_BF</th>\n",
       "    </tr>\n",
       "    <tr>\n",
       "      <th>cellid</th>\n",
       "      <th></th>\n",
       "      <th></th>\n",
       "      <th></th>\n",
       "      <th></th>\n",
       "      <th></th>\n",
       "      <th></th>\n",
       "      <th></th>\n",
       "      <th></th>\n",
       "      <th></th>\n",
       "      <th></th>\n",
       "      <th></th>\n",
       "      <th></th>\n",
       "      <th></th>\n",
       "      <th></th>\n",
       "      <th></th>\n",
       "    </tr>\n",
       "  </thead>\n",
       "  <tbody>\n",
       "    <tr>\n",
       "      <th>BRT026c-02-1</th>\n",
       "      <td>ACTIVE_1</td>\n",
       "      <td>-1.959967</td>\n",
       "      <td>-0.153021</td>\n",
       "      <td>-2.771811</td>\n",
       "      <td>True</td>\n",
       "      <td>14000.0</td>\n",
       "      <td>0.914375</td>\n",
       "      <td>0.036733</td>\n",
       "      <td>0.680338</td>\n",
       "      <td>False</td>\n",
       "      <td>29836.0</td>\n",
       "      <td>15.558886</td>\n",
       "      <td>1.091627</td>\n",
       "      <td>False</td>\n",
       "      <td>True</td>\n",
       "    </tr>\n",
       "    <tr>\n",
       "      <th>BRT026c-02-1</th>\n",
       "      <td>ACTIVE_2</td>\n",
       "      <td>0.105803</td>\n",
       "      <td>-0.000272</td>\n",
       "      <td>-0.575266</td>\n",
       "      <td>True</td>\n",
       "      <td>14000.0</td>\n",
       "      <td>0.914375</td>\n",
       "      <td>0.036733</td>\n",
       "      <td>0.680338</td>\n",
       "      <td>False</td>\n",
       "      <td>29836.0</td>\n",
       "      <td>15.558886</td>\n",
       "      <td>1.091627</td>\n",
       "      <td>False</td>\n",
       "      <td>True</td>\n",
       "    </tr>\n",
       "    <tr>\n",
       "      <th>BRT026c-02-1</th>\n",
       "      <td>ACTIVE_3</td>\n",
       "      <td>-1.071977</td>\n",
       "      <td>0.002518</td>\n",
       "      <td>-0.309207</td>\n",
       "      <td>True</td>\n",
       "      <td>14000.0</td>\n",
       "      <td>0.914375</td>\n",
       "      <td>0.036733</td>\n",
       "      <td>0.680338</td>\n",
       "      <td>False</td>\n",
       "      <td>29836.0</td>\n",
       "      <td>15.558886</td>\n",
       "      <td>1.091627</td>\n",
       "      <td>False</td>\n",
       "      <td>True</td>\n",
       "    </tr>\n",
       "    <tr>\n",
       "      <th>BRT026c-02-2</th>\n",
       "      <td>ACTIVE_0</td>\n",
       "      <td>1.524988</td>\n",
       "      <td>-0.005545</td>\n",
       "      <td>-0.164436</td>\n",
       "      <td>False</td>\n",
       "      <td>14000.0</td>\n",
       "      <td>0.515607</td>\n",
       "      <td>0.036736</td>\n",
       "      <td>0.428767</td>\n",
       "      <td>False</td>\n",
       "      <td>17041.0</td>\n",
       "      <td>10.292898</td>\n",
       "      <td>0.283583</td>\n",
       "      <td>True</td>\n",
       "      <td>False</td>\n",
       "    </tr>\n",
       "    <tr>\n",
       "      <th>BRT026c-02-2</th>\n",
       "      <td>ACTIVE_1</td>\n",
       "      <td>-0.415053</td>\n",
       "      <td>-0.065510</td>\n",
       "      <td>-0.628483</td>\n",
       "      <td>False</td>\n",
       "      <td>14000.0</td>\n",
       "      <td>0.515607</td>\n",
       "      <td>0.036736</td>\n",
       "      <td>0.428767</td>\n",
       "      <td>False</td>\n",
       "      <td>17041.0</td>\n",
       "      <td>10.292898</td>\n",
       "      <td>0.283583</td>\n",
       "      <td>True</td>\n",
       "      <td>False</td>\n",
       "    </tr>\n",
       "  </tbody>\n",
       "</table>\n",
       "</div>"
      ],
      "text/plain": [
       "             state_chan_alt  gain_task   MI_task   dc_task  sig_task  \\\n",
       "cellid                                                                 \n",
       "BRT026c-02-1       ACTIVE_1  -1.959967 -0.153021 -2.771811      True   \n",
       "BRT026c-02-1       ACTIVE_2   0.105803 -0.000272 -0.575266      True   \n",
       "BRT026c-02-1       ACTIVE_3  -1.071977  0.002518 -0.309207      True   \n",
       "BRT026c-02-2       ACTIVE_0   1.524988 -0.005545 -0.164436     False   \n",
       "BRT026c-02-2       ACTIVE_1  -0.415053 -0.065510 -0.628483     False   \n",
       "\n",
       "              tar_freq  gain_pupil  MI_pupil  dc_pupil  sig_pupil       BF  \\\n",
       "cellid                                                                       \n",
       "BRT026c-02-1   14000.0    0.914375  0.036733  0.680338      False  29836.0   \n",
       "BRT026c-02-1   14000.0    0.914375  0.036733  0.680338      False  29836.0   \n",
       "BRT026c-02-1   14000.0    0.914375  0.036733  0.680338      False  29836.0   \n",
       "BRT026c-02-2   14000.0    0.515607  0.036736  0.428767      False  17041.0   \n",
       "BRT026c-02-2   14000.0    0.515607  0.036736  0.428767      False  17041.0   \n",
       "\n",
       "                    SNR  oct_diff  ON_BF  OFF_BF  \n",
       "cellid                                            \n",
       "BRT026c-02-1  15.558886  1.091627  False    True  \n",
       "BRT026c-02-1  15.558886  1.091627  False    True  \n",
       "BRT026c-02-1  15.558886  1.091627  False    True  \n",
       "BRT026c-02-2  10.292898  0.283583   True   False  \n",
       "BRT026c-02-2  10.292898  0.283583   True   False  "
      ]
     },
     "execution_count": 5,
     "metadata": {},
     "output_type": "execute_result"
    }
   ],
   "source": [
    "df.head()"
   ]
  },
  {
   "cell_type": "markdown",
   "metadata": {},
   "source": [
    "### Plot histogram of MI / gain / DC for task modulation"
   ]
  },
  {
   "cell_type": "code",
   "execution_count": 6,
   "metadata": {},
   "outputs": [
    {
     "name": "stderr",
     "output_type": "stream",
     "text": [
      "/auto/users/hellerc/anaconda3/envs/crh_nems/lib/python3.6/site-packages/numpy/core/fromnumeric.py:56: FutureWarning: reshape is deprecated and will raise in a subsequent release. Please use .values.reshape(...) instead\n",
      "  return getattr(obj, method)(*args, **kwds)\n"
     ]
    },
    {
     "data": {
      "text/plain": [
       "Text(0.5,1,'on: 2.263, off: 0.039, \\non_pval: 0.004, off_pval: 0.627')"
      ]
     },
     "execution_count": 6,
     "metadata": {},
     "output_type": "execute_result"
    },
    {
     "data": {
      "image/png": "[encoded data removed]",
      "text/plain": [
       "<Figure size 1080x360 with 3 Axes>"
      ]
     },
     "metadata": {
      "needs_background": "light"
     },
     "output_type": "display_data"
    }
   ],
   "source": [
    "f, ax = plt.subplots(1, 3, figsize=(15, 5))\n",
    "\n",
    "mi_bins = np.arange(-.8, .9, 0.1)\n",
    "ax[0].hist(df.groupby(by=['cellid', 'ON_BF']).mean()['MI_task'], \n",
    "           bins=mi_bins, color='white', edgecolor='k', rwidth=0.6, label='all cells')\n",
    "ax[0].hist([df[df['sig_task'] & df['ON_BF']].groupby(by='cellid').mean()['MI_task'], \n",
    "            df[df['sig_task'] & df['OFF_BF']].groupby(by='cellid').mean()['MI_task']],\n",
    "           color=['blue', 'red'], bins=mi_bins, edgecolor='k', rwidth=0.6, \n",
    "           label=['ON cells', 'OFF cells'], histtype='barstacked')\n",
    "ax[0].set_xlabel('MI_task', fontsize=10)\n",
    "ax[0].set_ylabel('Number of neurons', fontsize=10)\n",
    "\n",
    "if not sdexp:\n",
    "    gain_bins = np.arange(-2, 2.2, .2)\n",
    "else:\n",
    "    gain_bins = np.arange(-10, 11, 1)\n",
    "ax[1].hist(df.groupby(by=['cellid', 'ON_BF']).mean()['gain_task'], \n",
    "           bins=gain_bins, color='white', edgecolor='k', rwidth=0.6, label='all cells')\n",
    "ax[1].hist([df[df['sig_task'] & df['ON_BF']].groupby(by='cellid').mean()['gain_task'], \n",
    "            df[df['sig_task'] & df['OFF_BF']].groupby(by='cellid').mean()['gain_task']],\n",
    "           color=['blue', 'red'], bins=gain_bins, edgecolor='k', rwidth=0.6, \n",
    "           label=['ON cells', 'OFF cells'], histtype='barstacked')\n",
    "ax[1].set_xlabel('gain_task', fontsize=10)\n",
    "ax[1].set_ylabel('Number of neurons', fontsize=10)\n",
    "\n",
    "if not sdexp:\n",
    "    dc_bins = np.arange(-2, 2.2, .2)\n",
    "else:\n",
    "    dc_bins = np.arange(-10, 11, 1)\n",
    "ax[2].hist(df.groupby(by=['cellid', 'ON_BF']).mean()['dc_task'], \n",
    "           bins=dc_bins, color='white', edgecolor='k', rwidth=0.6, label='all cells')\n",
    "ax[2].hist([df[df['sig_task'] & df['ON_BF']].groupby(by='cellid').mean()['dc_task'], \n",
    "            df[df['sig_task'] & df['OFF_BF']].groupby(by='cellid').mean()['dc_task']],\n",
    "           color=['blue', 'red'], bins=dc_bins, edgecolor='k', rwidth=0.6, \n",
    "           label=['ON cells', 'OFF cells'], histtype='barstacked')\n",
    "ax[2].set_xlabel('DC offset task', fontsize=10)\n",
    "ax[2].set_ylabel('Number of neurons', fontsize=10)\n",
    "ax[2].legend(frameon=False, fontsize=10)\n",
    "\n",
    "\n",
    "# add stats\n",
    "\n",
    "# MI\n",
    "on_median = np.round(df[df['sig_task'] & df['ON_BF']].groupby(by='cellid').mean()['MI_task'].median(), 3)\n",
    "on_pval = np.round(ss.wilcoxon(df[df['sig_task'] & df['ON_BF']].groupby(by='cellid').mean()['MI_task']).pvalue, 3)\n",
    "off_median = np.round(df[df['sig_task'] & df['OFF_BF']].groupby(by='cellid').mean()['MI_task'].median(), 3)\n",
    "off_pval = np.round(ss.wilcoxon(df[df['sig_task'] & df['OFF_BF']].groupby(by='cellid').mean()['MI_task']).pvalue, 3)\n",
    "ax[0].set_title('on: {0}, off: {1}, \\n'\n",
    "                'on_pval: {2}, off_pval: {3}'.format(on_median, off_median, on_pval, off_pval))\n",
    "# gain\n",
    "on_median = np.round(df[df['sig_task'] & df['ON_BF']].groupby(by='cellid').mean()['gain_task'].median(), 3)\n",
    "on_pval = np.round(ss.wilcoxon(df[df['sig_task'] & df['ON_BF']].groupby(by='cellid').mean()['gain_task']).pvalue, 3)\n",
    "off_median = np.round(df[df['sig_task'] & df['OFF_BF']].groupby(by='cellid').mean()['gain_task'].median(), 3)\n",
    "off_pval = np.round(ss.wilcoxon(df[df['sig_task'] & df['OFF_BF']].groupby(by='cellid').mean()['gain_task']).pvalue, 3)\n",
    "ax[1].set_title('on: {0}, off: {1}, \\n'\n",
    "                'on_pval: {2}, off_pval: {3}'.format(on_median, off_median, on_pval, off_pval))\n",
    "\n",
    "# DC\n",
    "on_median = np.round(df[df['sig_task'] & df['ON_BF']].groupby(by='cellid').mean()['dc_task'].median(), 3)\n",
    "on_pval = np.round(ss.wilcoxon(df[df['sig_task'] & df['ON_BF']].groupby(by='cellid').mean()['dc_task']).pvalue, 3)\n",
    "off_median = np.round(df[df['sig_task'] & df['OFF_BF']].groupby(by='cellid').mean()['dc_task'].median(), 3)\n",
    "off_pval = np.round(ss.wilcoxon(df[df['sig_task'] & df['OFF_BF']].groupby(by='cellid').mean()['dc_task']).pvalue, 3)\n",
    "ax[2].set_title('on: {0}, off: {1}, \\n'\n",
    "                'on_pval: {2}, off_pval: {3}'.format(on_median, off_median, on_pval, off_pval))"
   ]
  },
  {
   "cell_type": "markdown",
   "metadata": {},
   "source": [
    "### Plot histogram of MI, gain, DC for pupil"
   ]
  },
  {
   "cell_type": "code",
   "execution_count": 7,
   "metadata": {},
   "outputs": [
    {
     "name": "stderr",
     "output_type": "stream",
     "text": [
      "/home/hellerc/.local/lib/python3.6/site-packages/scipy/stats/morestats.py:2385: UserWarning: Warning: sample size too small for normal approximation.\n",
      "  warnings.warn(\"Warning: sample size too small for normal approximation.\")\n"
     ]
    },
    {
     "data": {
      "text/plain": [
       "Text(0.5,1,'on: 0.396, off: 1.475, \\non_pval: 0.484, off_pval: 0.068')"
      ]
     },
     "execution_count": 7,
     "metadata": {},
     "output_type": "execute_result"
    },
    {
     "data": {
      "image/png": "[encoded data removed]",
      "text/plain": [
       "<Figure size 1080x360 with 3 Axes>"
      ]
     },
     "metadata": {
      "needs_background": "light"
     },
     "output_type": "display_data"
    }
   ],
   "source": [
    "f, ax = plt.subplots(1, 3, figsize=(15, 5))\n",
    "\n",
    "mi_bins = np.arange(-.8, .9, 0.1)\n",
    "ax[0].hist(df.groupby(by=['cellid', 'ON_BF']).mean()['MI_pupil'], \n",
    "           bins=mi_bins, color='white', edgecolor='k', rwidth=0.6, label='all cells')\n",
    "ax[0].hist([df[df['sig_pupil'] & df['ON_BF']].groupby(by='cellid').mean()['MI_pupil'], \n",
    "            df[df['sig_pupil'] & df['OFF_BF']].groupby(by='cellid').mean()['MI_pupil']],\n",
    "           color=['blue', 'red'], bins=mi_bins, edgecolor='k', rwidth=0.6, \n",
    "           label=['ON cells', 'OFF cells'], histtype='barstacked')\n",
    "ax[0].set_xlabel('MI_pupil', fontsize=10)\n",
    "ax[0].set_ylabel('Number of neurons', fontsize=10)\n",
    "\n",
    "if not sdexp:\n",
    "    gain_bins = np.arange(-2, 2.2, .2)\n",
    "else:\n",
    "    gain_bins = np.arange(-10, 11, 1)\n",
    "ax[1].hist(df.groupby(by=['cellid', 'ON_BF']).mean()['gain_pupil'], \n",
    "           bins=gain_bins, color='white', edgecolor='k', rwidth=0.6, label='all cells')\n",
    "ax[1].hist([df[df['sig_pupil'] & df['ON_BF']].groupby(by='cellid').mean()['gain_pupil'], \n",
    "            df[df['sig_pupil'] & df['OFF_BF']].groupby(by='cellid').mean()['gain_pupil']],\n",
    "           color=['blue', 'red'], bins=gain_bins, edgecolor='k', rwidth=0.6, \n",
    "           label=['ON cells', 'OFF cells'], histtype='barstacked')\n",
    "ax[1].set_xlabel('gain_pupil', fontsize=10)\n",
    "ax[1].set_ylabel('Number of neurons', fontsize=10)\n",
    "\n",
    "if not sdexp:\n",
    "    dc_bins = np.arange(-2, 2.2, .2)\n",
    "else:\n",
    "    dc_bins = np.arange(-10, 11, 1)\n",
    "ax[2].hist(df.groupby(by=['cellid', 'ON_BF']).mean()['dc_pupil'], \n",
    "           bins=dc_bins, color='white', edgecolor='k', rwidth=0.6, label='all cells')\n",
    "ax[2].hist([df[df['sig_pupil'] & df['ON_BF']].groupby(by='cellid').mean()['dc_pupil'], \n",
    "            df[df['sig_pupil'] & df['OFF_BF']].groupby(by='cellid').mean()['dc_pupil']],\n",
    "           color=['blue', 'red'], bins=dc_bins, edgecolor='k', rwidth=0.6, \n",
    "           label=['ON cells', 'OFF cells'], histtype='barstacked')\n",
    "ax[2].set_xlabel('DC offset pupil', fontsize=10)\n",
    "ax[2].set_ylabel('Number of neurons', fontsize=10)\n",
    "ax[2].legend(frameon=False, fontsize=10)\n",
    "\n",
    "\n",
    "# add stats\n",
    "\n",
    "# MI\n",
    "on_median = np.round(df[df['sig_pupil'] & df['ON_BF']].groupby(by='cellid').mean()['MI_pupil'].median(), 3)\n",
    "on_pval = np.round(ss.wilcoxon(df[df['sig_pupil'] & df['ON_BF']].groupby(by='cellid').mean()['MI_pupil']).pvalue, 3)\n",
    "off_median = np.round(df[df['sig_pupil'] & df['OFF_BF']].groupby(by='cellid').mean()['MI_pupil'].median(), 3)\n",
    "off_pval = np.round(ss.wilcoxon(df[df['sig_pupil'] & df['OFF_BF']].groupby(by='cellid').mean()['MI_pupil']).pvalue, 3)\n",
    "ax[0].set_title('on: {0}, off: {1}, \\n'\n",
    "                'on_pval: {2}, off_pval: {3}'.format(on_median, off_median, on_pval, off_pval))\n",
    "# gain\n",
    "on_median = np.round(df[df['sig_pupil'] & df['ON_BF']].groupby(by='cellid').mean()['gain_pupil'].median(), 3)\n",
    "on_pval = np.round(ss.wilcoxon(df[df['sig_pupil'] & df['ON_BF']].groupby(by='cellid').mean()['gain_pupil']).pvalue, 3)\n",
    "off_median = np.round(df[df['sig_pupil'] & df['OFF_BF']].groupby(by='cellid').mean()['gain_pupil'].median(), 3)\n",
    "off_pval = np.round(ss.wilcoxon(df[df['sig_pupil'] & df['OFF_BF']].groupby(by='cellid').mean()['gain_pupil']).pvalue, 3)\n",
    "ax[1].set_title('on: {0}, off: {1}, \\n'\n",
    "                'on_pval: {2}, off_pval: {3}'.format(on_median, off_median, on_pval, off_pval))\n",
    "\n",
    "# DC\n",
    "on_median = np.round(df[df['sig_pupil'] & df['ON_BF']].groupby(by='cellid').mean()['dc_pupil'].median(), 3)\n",
    "on_pval = np.round(ss.wilcoxon(df[df['sig_pupil'] & df['ON_BF']].groupby(by='cellid').mean()['dc_pupil']).pvalue, 3)\n",
    "off_median = np.round(df[df['sig_pupil'] & df['OFF_BF']].groupby(by='cellid').mean()['dc_pupil'].median(), 3)\n",
    "off_pval = np.round(ss.wilcoxon(df[df['sig_pupil'] & df['OFF_BF']].groupby(by='cellid').mean()['dc_pupil']).pvalue, 3)\n",
    "ax[2].set_title('on: {0}, off: {1}, \\n'\n",
    "                'on_pval: {2}, off_pval: {3}'.format(on_median, off_median, on_pval, off_pval))"
   ]
  },
  {
   "cell_type": "markdown",
   "metadata": {},
   "source": [
    "### Compare ON vs. OFF BF MI / gain / DC for cellids that were recorded in both conditions"
   ]
  },
  {
   "cell_type": "code",
   "execution_count": 8,
   "metadata": {},
   "outputs": [
    {
     "name": "stdout",
     "output_type": "stream",
     "text": [
      "3 cellids found for both condtions\n"
     ]
    }
   ],
   "source": [
    "on_cells = df[df['ON_BF']].index.unique()\n",
    "off_cells = df[df['OFF_BF']].index.unique()\n",
    "matched = np.unique([c for c in df.index.unique() if (c in on_cells.values) & (c in off_cells.values)])\n",
    "print('{0} cellids found for both condtions'.format(len(matched)))"
   ]
  },
  {
   "cell_type": "markdown",
   "metadata": {},
   "source": [
    "### TASK modulation"
   ]
  },
  {
   "cell_type": "code",
   "execution_count": 9,
   "metadata": {},
   "outputs": [
    {
     "data": {
      "image/png": "[encoded data removed]",
      "text/plain": [
       "<Figure size 1080x360 with 3 Axes>"
      ]
     },
     "metadata": {
      "needs_background": "light"
     },
     "output_type": "display_data"
    }
   ],
   "source": [
    "f, ax = plt.subplots(1, 3, figsize=(15, 5))\n",
    "\n",
    "taskON = df[df.index.isin(matched) & (df.ON_BF)].groupby(by='cellid').mean()\n",
    "taskOFF = df[df.index.isin(matched) & (df.OFF_BF)].groupby(by='cellid').mean()\n",
    "\n",
    "ax[0].set_title('Unique Task MI')\n",
    "ax[0].scatter(taskON['MI_task'], taskOFF['MI_task'], color='grey', edgecolor='white', s=50)\n",
    "ax[0].scatter(taskON[taskON.sig_task]['MI_task'], \n",
    "                taskOFF[taskOFF.sig_task]['MI_task'], color='k', edgecolor='white', s=50)\n",
    "ax[0].plot([-1, 1], [-1, 1], 'grey', linestyle='--')\n",
    "ax[0].axhline(0, linestyle='--', color='grey')\n",
    "ax[0].axvline(0, linestyle='--', color='grey')\n",
    "ax[0].set_xlim((-1, 1))\n",
    "ax[0].set_ylim((-1, 1))\n",
    "ax[0].set_xlabel('ON BF')\n",
    "ax[0].set_ylabel('OFF BF')\n",
    "\n",
    "if not sdexp:\n",
    "    axlim = 1.5\n",
    "else:\n",
    "    axlim = 10\n",
    "ax[1].set_title('Gain')\n",
    "ax[1].scatter(taskON['gain_task'], taskOFF['gain_task'], color='grey', edgecolor='white', s=50)\n",
    "ax[1].scatter(taskON[taskON.sig_task]['gain_task'], \n",
    "                taskOFF[taskOFF.sig_task]['gain_task'], color='k', edgecolor='white', s=50)\n",
    "ax[1].plot([-axlim, axlim], [-axlim, axlim], 'grey', linestyle='--')\n",
    "ax[1].axhline(0, linestyle='--', color='grey')\n",
    "ax[1].axvline(0, linestyle='--', color='grey')\n",
    "ax[1].set_xlim((-axlim, axlim))\n",
    "ax[1].set_ylim((-axlim, axlim))\n",
    "ax[1].set_xlabel('ON BF')\n",
    "ax[1].set_ylabel('OFF BF')\n",
    "\n",
    "ax[2].set_title('DC offset')\n",
    "ax[2].scatter(taskON['dc_task'], taskOFF['dc_task'], color='grey', edgecolor='white', s=50, label='n.s. cells')\n",
    "ax[2].scatter(taskON[taskON.sig_task]['dc_task'], \n",
    "                taskOFF[taskOFF.sig_task]['dc_task'], color='k', edgecolor='white', s=50, label='sig cells')\n",
    "ax[2].plot([-axlim, axlim], [-axlim, axlim], 'grey', linestyle='--')\n",
    "ax[2].axhline(0, linestyle='--', color='grey')\n",
    "ax[2].axvline(0, linestyle='--', color='grey')\n",
    "ax[2].legend()\n",
    "ax[2].set_xlim((-axlim, axlim))\n",
    "ax[2].set_ylim((-axlim, axlim))\n",
    "ax[2].set_xlabel('ON BF')\n",
    "ax[2].set_ylabel('OFF BF')\n",
    "\n",
    "f.tight_layout()\n"
   ]
  },
  {
   "cell_type": "markdown",
   "metadata": {},
   "source": [
    "### PUPIL modulation\n",
    "\n",
    "The above analysis doesn't apply to pupil, because target freq. isn't dependent on pupil state"
   ]
  }
 ],
 "metadata": {
  "kernelspec": {
   "display_name": "Python (crh_nems)",
   "language": "python",
   "name": "crh_nems"
  },
  "language_info": {
   "codemirror_mode": {
    "name": "ipython",
    "version": 3
   },
   "file_extension": ".py",
   "mimetype": "text/x-python",
   "name": "python",
   "nbconvert_exporter": "python",
   "pygments_lexer": "ipython3",
   "version": "3.6.8"
  }
 },
 "nbformat": 4,
 "nbformat_minor": 4
}
